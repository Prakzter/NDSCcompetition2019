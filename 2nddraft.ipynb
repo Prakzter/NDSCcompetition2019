{
  "nbformat": 4,
  "nbformat_minor": 0,
  "metadata": {
    "colab": {
      "name": "2nddraft.ipynb",
      "version": "0.3.2",
      "provenance": [],
      "include_colab_link": true
    },
    "kernelspec": {
      "name": "python3",
      "display_name": "Python 3"
    }
  },
  "cells": [
    {
      "cell_type": "markdown",
      "metadata": {
        "id": "view-in-github",
        "colab_type": "text"
      },
      "source": [
        "<a href=\"https://colab.research.google.com/github/Prakzter/NDSCcompetition2019/blob/master/2nddraft.ipynb\" target=\"_parent\"><img src=\"https://colab.research.google.com/assets/colab-badge.svg\" alt=\"Open In Colab\"/></a>"
      ]
    },
    {
      "metadata": {
        "id": "gtAaxOBuaKpr",
        "colab_type": "text"
      },
      "cell_type": "markdown",
      "source": [
        "Unzipping image files"
      ]
    },
    {
      "metadata": {
        "id": "SVt_phhXaP43",
        "colab_type": "code",
        "colab": {}
      },
      "cell_type": "code",
      "source": [
        "from google.colab import drive\n",
        "import os\n",
        "import tarfile\n",
        "\n",
        "drive.mount('/content/gdrive')\n",
        "\n",
        "path = os.path.join(os.getcwd(), 'gdrive', 'My Drive', 'Colab Notebooks')   # Change according to your path \n",
        "\n",
        "os.chdir(path)\n",
        "\n",
        "with tarfile.open('mobile_image.tar.gz', 'r:gz') as tar:\n",
        "    tar.extractall()\n"
      ],
      "execution_count": 0,
      "outputs": []
    },
    {
      "metadata": {
        "id": "S6ATeoDWMxyl",
        "colab_type": "text"
      },
      "cell_type": "markdown",
      "source": [
        "Importing libraries"
      ]
    },
    {
      "metadata": {
        "id": "JqJbPuMP_6wS",
        "colab_type": "code",
        "colab": {}
      },
      "cell_type": "code",
      "source": [
        "# !pip install -U -q PyDrive\n",
        "# from pydrive.auth import GoogleAuth\n",
        "# from pydrive.drive import GoogleDrive\n",
        "# from google.colab import auth\n",
        "# from oauth2client.client import GoogleCredentials\n",
        "# # Authenticate and create the PyDrive client.\n",
        "# auth.authenticate_user()\n",
        "# gauth = GoogleAuth()\n",
        "# gauth.credentials = GoogleCredentials.get_application_default()\n",
        "# drive = GoogleDrive(gauth)w"
      ],
      "execution_count": 0,
      "outputs": []
    },
    {
      "metadata": {
        "id": "elOqxQOdDQM2",
        "colab_type": "code",
        "colab": {}
      },
      "cell_type": "code",
      "source": [
        "import keras\n",
        "from keras.models import Sequential\n",
        "from keras.layers import Dense, Dropout, Flatten\n",
        "from keras.layers import Conv2D, MaxPooling2D\n",
        "from keras.utils import to_categorical\n",
        "from keras.preprocessing import image\n",
        "import numpy as np\n",
        "import pandas as pd\n",
        "import matplotlib.pyplot as plt\n",
        "from sklearn.model_selection import train_test_split\n",
        "from keras.utils import to_categorical\n",
        "from tqdm import tqdm"
      ],
      "execution_count": 0,
      "outputs": []
    },
    {
      "metadata": {
        "id": "P7x0PQpCNtxn",
        "colab_type": "text"
      },
      "cell_type": "markdown",
      "source": [
        "Next, we will read all the training images, store them in a list, and finally convert that list into a numpy array."
      ]
    },
    {
      "metadata": {
        "id": "61oKQDW8Nux9",
        "colab_type": "code",
        "colab": {}
      },
      "cell_type": "code",
      "source": [
        "train = pd.read_csv('mobile.csv')\n",
        "\n",
        "# We have grayscale images, so while loading the images we will keep grayscale=True, if you have RGB images, you should set grayscale as False\n",
        "train_image = []\n",
        "for i in tqdm(train['image_path']):\n",
        "      img = image.load_img(i, target_size=(28,28,3), grayscale=False)\n",
        "      img = image.img_to_array(img)\n",
        "      img = img/255\n",
        "      train_image.append(img)\n",
        "X = np.array(train_image)"
      ],
      "execution_count": 0,
      "outputs": []
    },
    {
      "metadata": {
        "id": "PKdFoaOkN5lD",
        "colab_type": "text"
      },
      "cell_type": "markdown",
      "source": [
        "As it is a multi-class classification problem (57 classes), we will one-hot encode the target variable."
      ]
    },
    {
      "metadata": {
        "id": "pr4auYRbWeld",
        "colab_type": "code",
        "colab": {}
      },
      "cell_type": "code",
      "source": [
        "y = train['Category'].values\n",
        "y = to_categorical(y)"
      ],
      "execution_count": 0,
      "outputs": []
    },
    {
      "metadata": {
        "id": "6eizoywpWh6S",
        "colab_type": "text"
      },
      "cell_type": "markdown",
      "source": [
        "Creating a validation set from the training data."
      ]
    },
    {
      "metadata": {
        "id": "B_tkgujdWoas",
        "colab_type": "code",
        "colab": {}
      },
      "cell_type": "code",
      "source": [
        "X_train, X_test, y_train, y_test = train_test_split(X, y, random_state=42, test_size=0.2)"
      ],
      "execution_count": 0,
      "outputs": []
    },
    {
      "metadata": {
        "id": "GPsnG3QSWrHo",
        "colab_type": "text"
      },
      "cell_type": "markdown",
      "source": [
        "Define the model structure.\n",
        "\n",
        "We will create a simple architecture with 2 convolutional layers, one dense hidden layer and an output layer."
      ]
    },
    {
      "metadata": {
        "id": "KwKtEFWlWqvA",
        "colab_type": "code",
        "colab": {}
      },
      "cell_type": "code",
      "source": [
        "model = Sequential()\n",
        "model.add(Conv2D(32, kernel_size=(3, 3),activation='relu',input_shape=(28,28,3)))\n",
        "model.add(Conv2D(64, (3, 3), activation='relu'))\n",
        "model.add(MaxPooling2D(pool_size=(2, 2)))\n",
        "model.add(Dropout(0.25))\n",
        "model.add(Flatten())\n",
        "model.add(Dense(128, activation='relu'))\n",
        "model.add(Dropout(0.5))\n",
        "model.add(Dense(10, activation='softmax'))"
      ],
      "execution_count": 0,
      "outputs": []
    },
    {
      "metadata": {
        "id": "c7HRdk2RW26f",
        "colab_type": "text"
      },
      "cell_type": "markdown",
      "source": [
        "Next, we will compile the model we’ve created."
      ]
    },
    {
      "metadata": {
        "id": "I_TnV1WaW0fU",
        "colab_type": "code",
        "colab": {}
      },
      "cell_type": "code",
      "source": [
        "model.compile(loss='categorical_crossentropy',optimizer='Adam',metrics=['accuracy'])\n"
      ],
      "execution_count": 0,
      "outputs": []
    },
    {
      "metadata": {
        "id": "CSYVRAVpW6vH",
        "colab_type": "text"
      },
      "cell_type": "markdown",
      "source": [
        "Training the model.\n",
        "\n",
        "In this step, we will train the model on the training set images and validate it using, you guessed it, the validation set."
      ]
    },
    {
      "metadata": {
        "id": "bmlD1jdiW9Oj",
        "colab_type": "code",
        "colab": {}
      },
      "cell_type": "code",
      "source": [
        "model.fit(X_train, y_train, epochs=10, validation_data=(X_test, y_test))"
      ],
      "execution_count": 0,
      "outputs": []
    },
    {
      "metadata": {
        "id": "TCfglXvFXAkq",
        "colab_type": "text"
      },
      "cell_type": "markdown",
      "source": [
        "Making predictions!\n",
        "\n",
        "We’ll initially follow the steps we performed when dealing with the training data. Load the test images and predict their classes using the model.predict_classes() function."
      ]
    },
    {
      "metadata": {
        "id": "yQ0pf8biXat9",
        "colab_type": "code",
        "colab": {}
      },
      "cell_type": "code",
      "source": [
        "test = pd.read_csv('mobile_test.csv')\n",
        "\n",
        "test_image = []\n",
        "for i in tqdm(test['image_path']):\n",
        "  try:\n",
        "    img = image.load_img(i, target_size=(28,28,3), grayscale=False)\n",
        "    img = image.img_to_array(img)\n",
        "    img = img/255\n",
        "    test_image.append(img)\n",
        "  except:\n",
        "    pass\n",
        "test = np.array(test_image)"
      ],
      "execution_count": 0,
      "outputs": []
    },
    {
      "metadata": {
        "id": "ywdwNL4UXqCj",
        "colab_type": "text"
      },
      "cell_type": "markdown",
      "source": [
        "Let's make our prediction (and cross our fingers!) LOL"
      ]
    },
    {
      "metadata": {
        "id": "iIkQ1so5Ynf8",
        "colab_type": "code",
        "colab": {}
      },
      "cell_type": "code",
      "source": [
        "prediction = model.predict_classes(test)"
      ],
      "execution_count": 0,
      "outputs": []
    },
    {
      "metadata": {
        "id": "NHnABtmVYqmJ",
        "colab_type": "text"
      },
      "cell_type": "markdown",
      "source": [
        "Creating final submission file"
      ]
    },
    {
      "metadata": {
        "id": "DSPfkfWlYvGp",
        "colab_type": "code",
        "colab": {}
      },
      "cell_type": "code",
      "source": [
        "sample = pd.read_csv('Sample_Submission_lxuyBuB.csv')\n",
        "sample['filename'] = test_file['filename']\n",
        "sample['label'] = prediction\n",
        "sample.to_csv('sample.csv', header=True, index=False)"
      ],
      "execution_count": 0,
      "outputs": []
    }
  ]
}